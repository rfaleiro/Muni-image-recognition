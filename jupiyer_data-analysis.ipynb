{
 "cells": [
  {
   "cell_type": "markdown",
   "id": "896fb053",
   "metadata": {},
   "source": []
  },
  {
   "cell_type": "markdown",
   "id": "5d9245f3",
   "metadata": {},
   "source": []
  },
  {
   "cell_type": "markdown",
   "id": "7ef70411",
   "metadata": {},
   "source": []
  },
  {
   "cell_type": "code",
   "execution_count": null,
   "id": "97eb2997",
   "metadata": {
    "vscode": {
     "languageId": "plaintext"
    }
   },
   "outputs": [],
   "source": []
  }
 ],
 "metadata": {
  "language_info": {
   "name": "python"
  }
 },
 "nbformat": 4,
 "nbformat_minor": 5
}
